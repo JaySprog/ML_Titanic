{
 "cells": [
  {
   "cell_type": "code",
   "execution_count": null,
   "id": "50d7ba02",
   "metadata": {},
   "outputs": [],
   "source": [
    "import pandas as pd\n",
    "import numpy as np\n",
    "import matplotlib.pyplot as plt\n",
    "\n",
    "\n",
    "a=pd.read_csv(r\"/Users/vijay/Downloads/titanic (1)/train.csv\")\n",
    "a['Sex'].replace(['male','female'],[1,2], inplace=True)\n",
    "a['Age'].replace([np.NaN],[30], inplace=True)\n",
    "a['SibSp'].replace([np.NaN],[0], inplace=True)\n",
    "a['Parch'].replace([np.NaN],[0], inplace=True)\n",
    "a['Fare'].replace([np.NaN],[0], inplace=True)\n",
    "a['Pclass'].replace([np.NaN],[2], inplace=True)\n",
    "a['Embarked'].replace(['S','C','Q'],[1,2,3], inplace=True)\n",
    "a['Embarked'].replace([np.NaN],[2], inplace=True)\n",
    "a['Survived'].replace([np.NaN],[1], inplace=True)\n",
    "a"
   ]
  },
  {
   "cell_type": "code",
   "execution_count": null,
   "id": "4a6e7894",
   "metadata": {},
   "outputs": [],
   "source": [
    "y=np.array(a)[:,1]\n",
    "y=y.astype('int')\n"
   ]
  },
  {
   "cell_type": "code",
   "execution_count": null,
   "id": "ffd60314",
   "metadata": {},
   "outputs": [],
   "source": [
    "a_reduced=a[['Pclass','Sex','Age','SibSp','Parch','Fare','Embarked']]\n",
    "a_reduced"
   ]
  },
  {
   "cell_type": "code",
   "execution_count": null,
   "id": "cd734e19",
   "metadata": {},
   "outputs": [],
   "source": [
    "data=np.array(a_reduced)\n",
    "data"
   ]
  },
  {
   "cell_type": "code",
   "execution_count": null,
   "id": "69376579",
   "metadata": {},
   "outputs": [],
   "source": [
    "from sklearn.ensemble import RandomForestClassifier\n",
    "from sklearn.model_selection import cross_val_score as cvs\n",
    "from sklearn.model_selection import KFold\n",
    "\n",
    "kf=KFold(n_splits=10,shuffle=True,random_state=10)\n",
    "rfc=RandomForestClassifier(random_state=13,max_depth=4)\n",
    "scores = cvs(rfc,data,y,cv=kf)\n",
    "print(scores)\n",
    "print(scores.mean())\n"
   ]
  },
  {
   "cell_type": "code",
   "execution_count": null,
   "id": "6bdeef56",
   "metadata": {},
   "outputs": [],
   "source": [
    "from sklearn.model_selection import train_test_split as tts\n",
    "X_train, X_test, y_train, y_test = tts(data, y, random_state=20,stratify=y)\n",
    "rfc=RandomForestClassifier(random_state=14,max_depth=4)\n",
    "rfc.fit(X_train,y_train)\n",
    "test_score=rfc.score(X_test,y_test)\n",
    "train_score=rfc.score(X_train,y_train)\n",
    "print(train_score)\n",
    "print(test_score)"
   ]
  },
  {
   "cell_type": "code",
   "execution_count": null,
   "id": "9a39e5c0",
   "metadata": {},
   "outputs": [],
   "source": [
    "rfc.feature_importances_"
   ]
  },
  {
   "cell_type": "code",
   "execution_count": null,
   "id": "1130edb9",
   "metadata": {},
   "outputs": [],
   "source": [
    "a1=pd.read_csv(r\"/Users/vijay/Downloads/titanic (1)/test.csv\")\n",
    "a1['Sex'].replace(['male','female'],[1,2], inplace=True)\n",
    "a1['Age'].replace([np.NaN],[30], inplace=True)\n",
    "a1['SibSp'].replace([np.NaN],[0], inplace=True)\n",
    "a1['Parch'].replace([np.NaN],[0], inplace=True)\n",
    "a1['Fare'].replace([np.NaN],[0], inplace=True)\n",
    "a1['Pclass'].replace([np.NaN],[2], inplace=True)\n",
    "a1['Embarked'].replace(['S','C','Q'],[1,2,3], inplace=True)\n",
    "a1['Embarked'].replace([np.NaN],[2], inplace=True)\n",
    "a1"
   ]
  },
  {
   "cell_type": "code",
   "execution_count": null,
   "id": "2e06ca2b",
   "metadata": {},
   "outputs": [],
   "source": [
    "a1_reduced=a1[['Pclass','Sex','Age','SibSp','Parch','Fare','Embarked']]\n",
    "a1_reduced"
   ]
  },
  {
   "cell_type": "code",
   "execution_count": null,
   "id": "23834a78",
   "metadata": {},
   "outputs": [],
   "source": [
    "a1_reduced_data=np.array(a1_reduced)\n",
    "a1_reduced_data"
   ]
  },
  {
   "cell_type": "code",
   "execution_count": null,
   "id": "f429599e",
   "metadata": {},
   "outputs": [],
   "source": [
    "rfc=RandomForestClassifier(random_state=14,max_depth=7)\n",
    "rfc.fit(data,y)\n",
    "prediction=rfc.predict(a1_reduced_data)\n",
    "prediction"
   ]
  },
  {
   "cell_type": "code",
   "execution_count": null,
   "id": "52389300",
   "metadata": {},
   "outputs": [],
   "source": [
    "PassengerId=np.arange(892,1310,1).reshape(-1,1)\n",
    "PassengerId\n",
    "result=np.hstack([PassengerId,prediction.reshape(-1,1)])\n"
   ]
  },
  {
   "cell_type": "code",
   "execution_count": null,
   "id": "7b24a219",
   "metadata": {},
   "outputs": [],
   "source": [
    "dict = {'PassengerId': result[:,0], 'Survived': result[:,1]} \n",
    "df = pd.DataFrame(dict,index=None)\n",
    "df\n",
    "  "
   ]
  },
  {
   "cell_type": "code",
   "execution_count": null,
   "id": "e7a49060",
   "metadata": {
    "scrolled": true
   },
   "outputs": [],
   "source": [
    "age_binned=np.digitize(data[:,2],bins=np.array([0,12,18,35,50,70,100]))\n",
    "fare_binned=np.digitize(data[:,5],bins=np.array([0,15,40,70,100,200,300,400,550]))\n"
   ]
  },
  {
   "cell_type": "code",
   "execution_count": null,
   "id": "4c19d183",
   "metadata": {},
   "outputs": [],
   "source": [
    "data_binned_a=np.hstack([data[:,0:2],age_binned.reshape(-1,1),data[:,3:5],fare_binned.reshape(-1,1),data[:,6].reshape(-1,1)])"
   ]
  },
  {
   "cell_type": "code",
   "execution_count": null,
   "id": "6d11eb6a",
   "metadata": {},
   "outputs": [],
   "source": [
    "data_binned_a"
   ]
  },
  {
   "cell_type": "code",
   "execution_count": null,
   "id": "a0d2bc6e",
   "metadata": {},
   "outputs": [],
   "source": [
    "from sklearn.preprocessing import OneHotEncoder\n",
    "ohe=OneHotEncoder()\n",
    "ohe.fit(data_binned_a)\n",
    "data_binned_encoded_a=ohe.transform(data_binned_a).toarray()\n"
   ]
  },
  {
   "cell_type": "code",
   "execution_count": null,
   "id": "0231a862",
   "metadata": {},
   "outputs": [],
   "source": [
    "data_binned_encoded_a"
   ]
  },
  {
   "cell_type": "code",
   "execution_count": null,
   "id": "849bd265",
   "metadata": {},
   "outputs": [],
   "source": [
    "data_binned_encoded_a.shape"
   ]
  },
  {
   "cell_type": "code",
   "execution_count": null,
   "id": "0c8d68fb",
   "metadata": {},
   "outputs": [],
   "source": [
    "from sklearn.linear_model import LogisticRegression\n",
    "logreg=LogisticRegression(random_state=13,max_iter=10000,penalty='l2',C=1,solver='lbfgs')\n",
    "scores = cvs(logreg,data,y,cv=kf)\n",
    "print(scores)\n",
    "print(scores.mean())"
   ]
  },
  {
   "cell_type": "code",
   "execution_count": null,
   "id": "d18012ca",
   "metadata": {},
   "outputs": [],
   "source": [
    "from sklearn.neural_network import MLPClassifier\n",
    "mlp=MLPClassifier(random_state=25,max_iter=10000)\n",
    "mlp.fit(X_train,y_train)\n",
    "print(mlp.score(X_train,y_train))\n",
    "print(mlp.score(X_test,y_test))"
   ]
  },
  {
   "cell_type": "code",
   "execution_count": null,
   "id": "bf0299da",
   "metadata": {},
   "outputs": [],
   "source": [
    "\n",
    "X_train, X_test, y_train, y_test = tts(data_binned_encoded_a, y, random_state=20,stratify=y)\n",
    "mlp=MLPClassifier(random_state=25,max_iter=10000,learning_rate_init=0.001,activation='tanh',solver='adam')\n",
    "mlp.fit(X_train,y_train)\n",
    "print(mlp.score(X_train,y_train))\n",
    "print(mlp.score(X_test,y_test))"
   ]
  },
  {
   "cell_type": "code",
   "execution_count": null,
   "id": "a482349e",
   "metadata": {},
   "outputs": [],
   "source": [
    "from sklearn.preprocessing import PolynomialFeatures\n",
    "poly=PolynomialFeatures(degree=3,interaction_only=True, include_bias=False)\n",
    "poly_d=poly.fit_transform(data_binned_encoded_a)\n",
    "poly_d.shape"
   ]
  },
  {
   "cell_type": "code",
   "execution_count": null,
   "id": "0cf0a801",
   "metadata": {},
   "outputs": [],
   "source": [
    "X_train, X_test, y_train, y_test = tts(poly_d, y, random_state=20,stratify=y)\n",
    "mlp=MLPClassifier(random_state=25,max_iter=10000,learning_rate_init=0.001,activation='tanh',solver='adam')\n",
    "mlp.fit(X_train,y_train)\n",
    "print(mlp.score(X_train,y_train))\n",
    "print(mlp.score(X_test,y_test))"
   ]
  },
  {
   "cell_type": "code",
   "execution_count": null,
   "id": "759efc31",
   "metadata": {},
   "outputs": [],
   "source": [
    "from sklearn.svm import SVC\n",
    "param_grid = {'C': [0.001, 0.01, 0.1, 1, 10, 100],\n",
    "                  'gamma': [0.001, 0.01, 0.1, 1, 10, 100]}\n",
    "X_train, X_test, y_train, y_test = tts(data, y, random_state=20,stratify=y)\n",
    "svc=SVC(random_state=25)\n",
    "svc.fit(X_train,y_train)\n",
    "print(svc.score(X_train,y_train))\n",
    "print(svc.score(X_test,y_test))"
   ]
  },
  {
   "cell_type": "code",
   "execution_count": null,
   "id": "57e552c5",
   "metadata": {},
   "outputs": [],
   "source": [
    "from sklearn.model_selection import GridSearchCV \n",
    "grid_search = GridSearchCV(svc, param_grid, cv=10)\n",
    "grid_search.fit(X_train, y_train)\n",
    "print(grid_search.score(X_test, y_test))"
   ]
  },
  {
   "cell_type": "code",
   "execution_count": null,
   "id": "2e3e5647",
   "metadata": {},
   "outputs": [],
   "source": [
    "print(\"Best parameters: {}\".format(grid_search.best_params_))\n",
    "print(\"Best cross-validation score: {:.2f}\".format(grid_search.best_score_))"
   ]
  },
  {
   "cell_type": "code",
   "execution_count": null,
   "id": "006df487",
   "metadata": {},
   "outputs": [],
   "source": [
    "print(\"Best estimator:\\n{}\".format(grid_search.best_estimator_))"
   ]
  },
  {
   "cell_type": "code",
   "execution_count": null,
   "id": "b6172c78",
   "metadata": {},
   "outputs": [],
   "source": [
    "age_binned=np.digitize(a1_reduced_data[:,2],bins=np.array([0,16,45,100]))\n",
    "fare_binned=np.digitize(a1_reduced_data[:,5],bins=np.array([0,15,40,70,100,200,300,400,550]))\n",
    "data_binned_a1=np.hstack([a1_reduced_data[:,0:2],age_binned.reshape(-1,1),a1_reduced_data[:,3:5],fare_binned.reshape(-1,1),a1_reduced_data[:,6].reshape(-1,1)])\n"
   ]
  },
  {
   "cell_type": "code",
   "execution_count": null,
   "id": "16232945",
   "metadata": {},
   "outputs": [],
   "source": [
    "data_binned_a1"
   ]
  },
  {
   "cell_type": "code",
   "execution_count": null,
   "id": "a15052c8",
   "metadata": {},
   "outputs": [],
   "source": [
    "result=np.hstack([PassengerId,prediction.reshape(-1,1)])\n",
    "\n",
    "dict = {'PassengerId': result[:,0], 'Survived': result[:,1]} \n",
    "df = pd.DataFrame(dict,index=None)\n",
    "df"
   ]
  },
  {
   "cell_type": "code",
   "execution_count": null,
   "id": "846f618c",
   "metadata": {},
   "outputs": [],
   "source": [
    "#df.to_csv(r\"/Users/vijay/Downloads/titanic (1)/result.csv\",index=False)"
   ]
  },
  {
   "cell_type": "code",
   "execution_count": null,
   "id": "303c562a",
   "metadata": {},
   "outputs": [],
   "source": [
    "from sklearn.model_selection import train_test_split as tts\n",
    "X_train, X_test, y_train, y_test = tts(data, y, random_state=20,stratify=y)\n",
    "rfc=RandomForestClassifier(random_state=14,max_depth=4)\n",
    "rfc.fit(X_train,y_train)\n",
    "test_score=rfc.score(X_test,y_test)\n",
    "train_score=rfc.score(X_train,y_train)\n",
    "print(train_score)\n",
    "print(test_score)"
   ]
  },
  {
   "cell_type": "code",
   "execution_count": null,
   "id": "488825ca",
   "metadata": {},
   "outputs": [],
   "source": [
    "prediction=rfc.predict(a1_reduced_data)"
   ]
  },
  {
   "cell_type": "code",
   "execution_count": null,
   "id": "d27b4c19",
   "metadata": {},
   "outputs": [],
   "source": [
    "result=np.hstack([PassengerId,prediction.reshape(-1,1)])\n",
    "\n",
    "dict = {'PassengerId': result[:,0], 'Survived': result[:,1]} \n",
    "df = pd.DataFrame(dict,index=None)\n",
    "df"
   ]
  },
  {
   "cell_type": "code",
   "execution_count": null,
   "id": "546b15b6",
   "metadata": {},
   "outputs": [],
   "source": [
    "#df.to_csv(r\"/Users/vijay/Downloads/titanic (1)/result.csv\",index=False)"
   ]
  },
  {
   "cell_type": "code",
   "execution_count": null,
   "id": "b17c84da",
   "metadata": {},
   "outputs": [],
   "source": [
    "from sklearn.ensemble import GradientBoostingClassifier\n",
    "gbc=GradientBoostingClassifier(random_state=10,max_depth=2,learning_rate=0.2, n_estimators=100,min_samples_split=4,\n",
    "                              min_samples_leaf=1,max_features=1)\n",
    "gbc.fit(X_train,y_train)\n",
    "train_score=gbc.score(X_train,y_train)\n",
    "test_score=gbc.score(X_test,y_test)\n",
    "print(train_score)\n",
    "print(test_score)"
   ]
  },
  {
   "cell_type": "code",
   "execution_count": null,
   "id": "e0bc20fb",
   "metadata": {},
   "outputs": [],
   "source": [
    "prediction=gbc.predict(a1_reduced_data)\n",
    "result=np.hstack([PassengerId,prediction.reshape(-1,1)])\n",
    "dict = {'PassengerId': result[:,0], 'Survived': result[:,1]} \n",
    "df = pd.DataFrame(dict,index=None)\n",
    "#df.to_csv(r\"/Users/vijay/Downloads/titanic (1)/result.csv\",index=False)"
   ]
  },
  {
   "cell_type": "code",
   "execution_count": null,
   "id": "73ac92c4",
   "metadata": {},
   "outputs": [],
   "source": [
    "scores = cvs(gbc,data,y,cv=kf)\n",
    "print(scores)\n",
    "print(scores.mean())"
   ]
  },
  {
   "cell_type": "code",
   "execution_count": null,
   "id": "01b27b84",
   "metadata": {},
   "outputs": [],
   "source": [
    "param_grid = {'max_depth': [2,3,4],\n",
    "              'learning_rate': [0.1,0.2],\n",
    "              'n_estimators': [ 50, 100, 150],\n",
    "              'min_samples_split': [3,4,5],\n",
    "              'min_samples_leaf': [1,2],\n",
    "              'max_features': [1,2]}\n",
    "gbc=GradientBoostingClassifier()\n",
    "grid_search = GridSearchCV(gbc, param_grid, cv=5)\n",
    "grid_search.fit(X_train, y_train)\n",
    "print(grid_search.score(X_test, y_test))"
   ]
  },
  {
   "cell_type": "code",
   "execution_count": null,
   "id": "baedefb3",
   "metadata": {},
   "outputs": [],
   "source": [
    "print(\"Best parameters: {}\".format(grid_search.best_params_))\n",
    "print(\"Best cross-validation score: {:.2f}\".format(grid_search.best_score_))"
   ]
  },
  {
   "cell_type": "code",
   "execution_count": null,
   "id": "2fe03b5c",
   "metadata": {},
   "outputs": [],
   "source": [
    "print(\"Best estimator:\\n{}\".format(grid_search.best_estimator_))"
   ]
  },
  {
   "cell_type": "code",
   "execution_count": null,
   "id": "6f3a38be",
   "metadata": {},
   "outputs": [],
   "source": [
    "gbc=GradientBoostingClassifier(max_depth=4, max_features=2, min_samples_split=3,\n",
    "                           n_estimators=50,learning_rate=0.1)\n",
    "gbc.fit(X_train, y_train)\n",
    "prediction=gbc.predict(a1_reduced_data)"
   ]
  },
  {
   "cell_type": "code",
   "execution_count": null,
   "id": "ad31bcfc",
   "metadata": {},
   "outputs": [],
   "source": []
  },
  {
   "cell_type": "code",
   "execution_count": null,
   "id": "04e608a1",
   "metadata": {},
   "outputs": [],
   "source": [
    "result=np.hstack([PassengerId,prediction.reshape(-1,1)])\n",
    "dict = {'PassengerId': result[:,0], 'Survived': result[:,1]} \n",
    "df = pd.DataFrame(dict,index=None)\n",
    "#df.to_csv(r\"/Users/vijay/Downloads/titanic (1)/result.csv\",index=False)"
   ]
  },
  {
   "cell_type": "code",
   "execution_count": null,
   "id": "165016e5",
   "metadata": {},
   "outputs": [],
   "source": [
    "X_train, X_test, y_train, y_test = tts(data_binned_a, y, random_state=20,stratify=y)\n",
    "param_grid = {'max_depth': [2,3,4],\n",
    "              'learning_rate': [0.1,0.2],\n",
    "              'n_estimators': [ 50, 100, 150],\n",
    "              'min_samples_split': [3,4,5],\n",
    "              'min_samples_leaf': [1,2],\n",
    "              'max_features': [1,2]}\n",
    "gbc=GradientBoostingClassifier()\n",
    "grid_search = GridSearchCV(gbc, param_grid, cv=5)\n",
    "grid_search.fit(X_train, y_train)\n",
    "print(grid_search.score(X_test, y_test))\n",
    "print(\"Best parameters: {}\".format(grid_search.best_params_))\n",
    "print(\"Best cross-validation score: {:.2f}\".format(grid_search.best_score_))\n",
    "print(\"Best estimator:\\n{}\".format(grid_search.best_estimator_))"
   ]
  },
  {
   "cell_type": "code",
   "execution_count": null,
   "id": "dee8b377",
   "metadata": {},
   "outputs": [],
   "source": [
    "X_train, X_test, y_train, y_test = tts(data, y, random_state=20,stratify=y)\n",
    "gbc=GradientBoostingClassifier(random_state=10,max_depth=2,learning_rate=0.2, n_estimators=100,min_samples_split=4,\n",
    "                              min_samples_leaf=2,max_features=1)\n",
    "gbc.fit(X_train,y_train)\n",
    "train_score=gbc.score(X_train,y_train)\n",
    "test_score=gbc.score(X_test,y_test)\n",
    "print(train_score)\n",
    "print(test_score)"
   ]
  },
  {
   "cell_type": "code",
   "execution_count": null,
   "id": "13e98479",
   "metadata": {},
   "outputs": [],
   "source": [
    "prediction=gbc.predict(a1_reduced_data)\n",
    "result=np.hstack([PassengerId,prediction.reshape(-1,1)])\n",
    "dict = {'PassengerId': result[:,0], 'Survived': result[:,1]} \n",
    "df = pd.DataFrame(dict,index=None)\n",
    "df.to_csv(r\"/Users/vijay/Downloads/titanic (1)/result.csv\",index=False)"
   ]
  },
  {
   "cell_type": "code",
   "execution_count": null,
   "id": "6d263fae",
   "metadata": {},
   "outputs": [],
   "source": [
    "# End of project\n",
    "# Support vector with some parameter tuning\n",
    "# and gradient_boost with some parameter tuning gives highest score "
   ]
  },
  {
   "cell_type": "code",
   "execution_count": null,
   "id": "2eee6465",
   "metadata": {},
   "outputs": [],
   "source": [
    "# But some feature engineering is required like \n",
    "\n",
    "#handling missing age values\n",
    "#prefixes like Master/Mr./Miss/Mrs\n",
    "#can we extract information from ticket number e.g tickets bought together\n",
    "\n",
    "\n"
   ]
  },
  {
   "cell_type": "code",
   "execution_count": null,
   "id": "8cb6e5be",
   "metadata": {},
   "outputs": [],
   "source": [
    "plt.hist(data[:,2], bins=np.arange(0,101,1))"
   ]
  },
  {
   "cell_type": "code",
   "execution_count": null,
   "id": "77cfcb68",
   "metadata": {},
   "outputs": [],
   "source": [
    "# After filling the missing age fields with approxiamations\n",
    "# i.e master/miss with 10\n",
    "# mr/mrs with 10\n",
    "a=pd.read_csv(r\"/Users/vijay/Desktop/train_new.csv\")\n",
    "a['Sex'].replace(['male','female'],[1,2], inplace=True)\n",
    "a['Age'].replace([np.NaN],[30], inplace=True)\n",
    "a['SibSp'].replace([np.NaN],[0], inplace=True)\n",
    "a['Parch'].replace([np.NaN],[0], inplace=True)\n",
    "a['Fare'].replace([np.NaN],[0], inplace=True)\n",
    "a['Pclass'].replace([np.NaN],[2], inplace=True)\n",
    "a['Embarked'].replace(['S','C','Q'],[1,2,3], inplace=True)\n",
    "a['Embarked'].replace([np.NaN],[2], inplace=True)\n",
    "a['Survived'].replace([np.NaN],[1], inplace=True)\n",
    "a"
   ]
  },
  {
   "cell_type": "code",
   "execution_count": null,
   "id": "9b1a77da",
   "metadata": {},
   "outputs": [],
   "source": [
    "y=np.array(a)[:,1]\n",
    "y=y.astype('int')\n",
    "a_reduced=a[['Pclass','Sex','Age','SibSp','Parch','Fare','Embarked']]\n",
    "a_reduced"
   ]
  },
  {
   "cell_type": "code",
   "execution_count": null,
   "id": "f77b998e",
   "metadata": {},
   "outputs": [],
   "source": [
    "data=np.array(a_reduced)\n",
    "data"
   ]
  },
  {
   "cell_type": "code",
   "execution_count": null,
   "id": "18bc1a0c",
   "metadata": {},
   "outputs": [],
   "source": [
    "age_binned=np.digitize(data[:,2],bins=np.array([0,12,18,35,50,70,100]))\n",
    "fare_binned=np.digitize(data[:,5],bins=np.array([0,15,40,70,100,200,300,400,550]))\n",
    "data_binned=np.hstack([data[:,0:2],age_binned.reshape(-1,1),data[:,3:5],fare_binned.reshape(-1,1),data[:,6].reshape(-1,1)])"
   ]
  },
  {
   "cell_type": "code",
   "execution_count": null,
   "id": "72ea7616",
   "metadata": {},
   "outputs": [],
   "source": [
    "X_train, X_test, y_train, y_test = tts(data_binned, y, random_state=20,stratify=y)"
   ]
  },
  {
   "cell_type": "code",
   "execution_count": null,
   "id": "8ccc1458",
   "metadata": {},
   "outputs": [],
   "source": [
    "from sklearn.svm import SVC\n",
    "param_grid = {'C': [0.001, 0.01, 0.1, 1, 10, 100],\n",
    "                  'gamma': [0.001, 0.01, 0.1, 1, 10, 100]}\n",
    "svc=SVC()\n",
    "grid_search = GridSearchCV(svc, param_grid, cv=5)\n",
    "grid_search.fit(X_train, y_train)\n",
    "print(grid_search.score(X_test, y_test))\n",
    "print(\"Best parameters: {}\".format(grid_search.best_params_))\n",
    "print(\"Best cross-validation score: {:.2f}\".format(grid_search.best_score_))\n",
    "print(\"Best estimator:\\n{}\".format(grid_search.best_estimator_))\n"
   ]
  },
  {
   "cell_type": "code",
   "execution_count": null,
   "id": "940f6df5",
   "metadata": {},
   "outputs": [],
   "source": [
    "svc=SVC(C=1, gamma=0.1)\n",
    "svc.fit(X_train, y_train)"
   ]
  },
  {
   "cell_type": "code",
   "execution_count": null,
   "id": "6ea4d0da",
   "metadata": {},
   "outputs": [],
   "source": [
    "#  gradient_boosting classifier\n",
    "X_train, X_test, y_train, y_test = tts(data, y, random_state=20,stratify=y)\n",
    "from sklearn.ensemble import GradientBoostingClassifier\n",
    "param_grid = {'max_depth': [2,3,4],\n",
    "              'learning_rate': [0.1,0.2],\n",
    "              'n_estimators': [ 50, 100, 150],\n",
    "              'min_samples_split': [3,4,5],\n",
    "              'min_samples_leaf': [1,2],\n",
    "              'max_features': [1,2]}\n",
    "gbc=GradientBoostingClassifier(random_state=12)\n",
    "grid_search = GridSearchCV(gbc, param_grid, cv=5)\n",
    "grid_search.fit(X_train, y_train)\n",
    "print(grid_search.score(X_test, y_test))\n",
    "print(\"Best parameters: {}\".format(grid_search.best_params_))\n",
    "print(\"Best cross-validation score: {:.2f}\".format(grid_search.best_score_))\n",
    "print(\"Best estimator:\\n{}\".format(grid_search.best_estimator_))"
   ]
  },
  {
   "cell_type": "code",
   "execution_count": null,
   "id": "a947df97",
   "metadata": {},
   "outputs": [],
   "source": [
    "gbc=GradientBoostingClassifier(max_depth=4, max_features=2, min_samples_split=4,\n",
    "                           n_estimators=50)\n",
    "\n",
    "gbc.fit(X_train, y_train)\n",
    "\n"
   ]
  },
  {
   "cell_type": "code",
   "execution_count": null,
   "id": "b0c569e4",
   "metadata": {},
   "outputs": [],
   "source": [
    "# modified test data \n",
    "a1=pd.read_csv(r\"/Users/vijay/Desktop/test_new.csv\")\n",
    "a1['Sex'].replace(['male','female'],[1,2], inplace=True)\n",
    "a1['Age'].replace([np.NaN],[30], inplace=True)\n",
    "a1['SibSp'].replace([np.NaN],[0], inplace=True)\n",
    "a1['Parch'].replace([np.NaN],[0], inplace=True)\n",
    "a1['Fare'].replace([np.NaN],[0], inplace=True)\n",
    "a1['Pclass'].replace([np.NaN],[2], inplace=True)\n",
    "a1['Embarked'].replace(['S','C','Q'],[1,2,3], inplace=True)\n",
    "a1['Embarked'].replace([np.NaN],[2], inplace=True)\n",
    "a1"
   ]
  },
  {
   "cell_type": "code",
   "execution_count": null,
   "id": "2a05a5ba",
   "metadata": {},
   "outputs": [],
   "source": [
    "a1_reduced=a1[['Pclass','Sex','Age','SibSp','Parch','Fare','Embarked']]\n",
    "a1_reduced_data=np.array(a1_reduced)\n",
    "a1_reduced_data"
   ]
  },
  {
   "cell_type": "code",
   "execution_count": null,
   "id": "b3abd6dd",
   "metadata": {},
   "outputs": [],
   "source": [
    "prediction=gbc.predict(a1_reduced_data)\n",
    "result=np.hstack([PassengerId,prediction.reshape(-1,1)])\n",
    "dict = {'PassengerId': result[:,0], 'Survived': result[:,1]} \n",
    "df = pd.DataFrame(dict,index=None)\n",
    "df.to_csv(r\"/Users/vijay/Desktop/result.csv\",index=False)"
   ]
  },
  {
   "cell_type": "code",
   "execution_count": null,
   "id": "cfe32f8f",
   "metadata": {},
   "outputs": [],
   "source": [
    "age_binned=np.digitize(a1_reduced_data[:,2],bins=np.array([0,12,18,35,50,70,100]))\n",
    "fare_binned=np.digitize(a1_reduced_data[:,5],bins=np.array([0,15,40,70,100,200,300,400,550]))\n",
    "data_binned_a1=np.hstack([a1_reduced_data[:,0:2],age_binned.reshape(-1,1),a1_reduced_data[:,3:5],fare_binned.reshape(-1,1),a1_reduced_data[:,6].reshape(-1,1)])\n"
   ]
  },
  {
   "cell_type": "code",
   "execution_count": null,
   "id": "de0901aa",
   "metadata": {},
   "outputs": [],
   "source": [
    "prediction=svc.predict(data_binned_a1)\n",
    "result=np.hstack([PassengerId,prediction.reshape(-1,1)])\n",
    "dict = {'PassengerId': result[:,0], 'Survived': result[:,1]} \n",
    "df = pd.DataFrame(dict,index=None)\n",
    "df.to_csv(r\"/Users/vijay/Desktop/result.csv\",index=False)"
   ]
  },
  {
   "cell_type": "code",
   "execution_count": null,
   "id": "6d65dd7e",
   "metadata": {},
   "outputs": [],
   "source": [
    "X_train, X_test, y_train, y_test = tts(data, y, random_state=20,stratify=y)\n",
    "gbc=GradientBoostingClassifier(max_depth=3, max_features=2, min_samples_split=4,n_estimators=50,random_state=12)\n",
    "gbc.fit(X_train, y_train)\n",
    "print(gbc.score(X_train, y_train))\n",
    "print(gbc.score(X_test, y_test))"
   ]
  },
  {
   "cell_type": "code",
   "execution_count": null,
   "id": "b4eabb4d",
   "metadata": {},
   "outputs": [],
   "source": [
    "prediction=gbc.predict(a1_reduced_data)\n",
    "result=np.hstack([PassengerId,prediction.reshape(-1,1)])\n",
    "dict = {'PassengerId': result[:,0], 'Survived': result[:,1]} \n",
    "df = pd.DataFrame(dict,index=None)\n",
    "df.to_csv(r\"/Users/vijay/Desktop/result.csv\",index=False)"
   ]
  },
  {
   "cell_type": "code",
   "execution_count": null,
   "id": "b569b1cf",
   "metadata": {},
   "outputs": [],
   "source": [
    "# If you change or don't change age columns with modified age, still it's same.\n",
    "# After grid search also, it's not improving\n",
    "# instead some manual tuning gives good score on Kaggle\n",
    "# what about random forest?"
   ]
  },
  {
   "cell_type": "code",
   "execution_count": null,
   "id": "ff75266a",
   "metadata": {},
   "outputs": [],
   "source": [
    "from sklearn.ensemble import RandomForestClassifier\n",
    "rfc=RandomForestClassifier(max_depth=5,random_state=15)\n",
    "rfc.fit(X_train, y_train)\n",
    "print(rfc.score(X_train, y_train))\n",
    "print(rfc.score(X_test, y_test))\n"
   ]
  },
  {
   "cell_type": "code",
   "execution_count": null,
   "id": "76595798",
   "metadata": {},
   "outputs": [],
   "source": [
    "prediction=rfc.predict(a1_reduced_data)\n",
    "result=np.hstack([PassengerId,prediction.reshape(-1,1)])\n",
    "dict = {'PassengerId': result[:,0], 'Survived': result[:,1]} \n",
    "df = pd.DataFrame(dict,index=None)\n",
    "df.to_csv(r\"/Users/vijay/Desktop/result.csv\",index=False)"
   ]
  },
  {
   "cell_type": "code",
   "execution_count": null,
   "id": "5c8013c3",
   "metadata": {},
   "outputs": [],
   "source": [
    "rfc.feature_importances_"
   ]
  },
  {
   "cell_type": "code",
   "execution_count": null,
   "id": "4db8f337",
   "metadata": {},
   "outputs": [],
   "source": [
    "# let's try with only important features"
   ]
  },
  {
   "cell_type": "code",
   "execution_count": null,
   "id": "22c563bc",
   "metadata": {},
   "outputs": [],
   "source": [
    "a_reduced"
   ]
  },
  {
   "cell_type": "code",
   "execution_count": null,
   "id": "92865fe6",
   "metadata": {},
   "outputs": [],
   "source": [
    "a_reduced=a[['Pclass','Sex','Age','Fare']]\n",
    "data=np.array(a_reduced)"
   ]
  },
  {
   "cell_type": "code",
   "execution_count": null,
   "id": "58f337d3",
   "metadata": {},
   "outputs": [],
   "source": [
    "data=np.array(a_reduced)\n",
    "X_train, X_test, y_train, y_test = tts(data, y, random_state=20,stratify=y)\n",
    "rfc=RandomForestClassifier(max_depth=3,random_state=15)\n",
    "rfc.fit(X_train, y_train)\n",
    "print(rfc.score(X_train, y_train))\n",
    "print(rfc.score(X_test, y_test))"
   ]
  },
  {
   "cell_type": "code",
   "execution_count": null,
   "id": "d0675287",
   "metadata": {},
   "outputs": [],
   "source": [
    "rfc.feature_importances_"
   ]
  },
  {
   "cell_type": "code",
   "execution_count": null,
   "id": "60eb9a09",
   "metadata": {},
   "outputs": [],
   "source": [
    "from sklearn.ensemble import GradientBoostingClassifier\n",
    "from sklearn.model_selection import GridSearchCV \n",
    "param_grid = {'max_depth': [2,3,4],\n",
    "              'learning_rate': [0.1,0.2],\n",
    "              'n_estimators': [ 50, 100, 150],\n",
    "              'min_samples_split': [3,4,5],\n",
    "              'min_samples_leaf': [1,2],\n",
    "              'max_features': [1,2]\n",
    "gbc=GradientBoostingClassifier(random_state=12)\n",
    "grid_search = GridSearchCV(gbc, param_grid, cv=5)\n",
    "grid_search.fit(X_train, y_train)\n",
    "print(grid_search.score(X_test, y_test))\n",
    "print(\"Best parameters: {}\".format(grid_search.best_params_))\n",
    "print(\"Best cross-validation score: {:.2f}\".format(grid_search.best_score_))\n",
    "print(\"Best estimator:\\n{}\".format(grid_search.best_estimator_))"
   ]
  },
  {
   "cell_type": "code",
   "execution_count": null,
   "id": "6620d3ab",
   "metadata": {},
   "outputs": [],
   "source": [
    "# start from here"
   ]
  },
  {
   "cell_type": "code",
   "execution_count": null,
   "id": "af18910e",
   "metadata": {},
   "outputs": [],
   "source": [
    "a=pd.read_csv(r\"/Users/vijay/Downloads/train_new.csv\")\n",
    "a['Sex'].replace(['male','female'],[1,2], inplace=True)\n",
    "a['Age'].replace([np.NaN],[30], inplace=True)\n",
    "a['SibSp'].replace([np.NaN],[0], inplace=True)\n",
    "a['Parch'].replace([np.NaN],[0], inplace=True)\n",
    "a['Fare'].replace([np.NaN],[8], inplace=True)\n",
    "a['Pclass'].replace([np.NaN],[2], inplace=True)\n",
    "a['Embarked'].replace(['S','C','Q'],[1,2,3], inplace=True)\n",
    "a['Embarked'].replace([np.NaN],[2], inplace=True)\n",
    "a"
   ]
  },
  {
   "cell_type": "code",
   "execution_count": null,
   "id": "f2772e34",
   "metadata": {},
   "outputs": [],
   "source": [
    "x = a['Name'].astype('str').str.extractall('(\\d+)').unstack().fillna('').sum(axis=1).astype(int)\n",
    "x"
   ]
  },
  {
   "cell_type": "code",
   "execution_count": null,
   "id": "7e9a8cbc",
   "metadata": {},
   "outputs": [],
   "source": [
    "np.array(x)"
   ]
  },
  {
   "cell_type": "code",
   "execution_count": null,
   "id": "47eea29c",
   "metadata": {},
   "outputs": [],
   "source": [
    "a_reduced=a[['Pclass','Sex','Fare','Age']]\n",
    "data=np.array(a_reduced)"
   ]
  },
  {
   "cell_type": "code",
   "execution_count": null,
   "id": "45126c27",
   "metadata": {},
   "outputs": [],
   "source": [
    "data_final=np.hstack([data,np.array(x).reshape(-1,1)])\n"
   ]
  },
  {
   "cell_type": "code",
   "execution_count": null,
   "id": "6fccb446",
   "metadata": {},
   "outputs": [],
   "source": [
    "X_train, X_test, y_train, y_test = tts(data_final, y, random_state=20,stratify=y)\n",
    "rfc=RandomForestClassifier(max_depth= 4)\n",
    "rfc.fit(X_train, y_train)\n",
    "print(rfc.score(X_train, y_train))\n",
    "print(rfc.score(X_test, y_test))"
   ]
  },
  {
   "cell_type": "code",
   "execution_count": null,
   "id": "107001b1",
   "metadata": {},
   "outputs": [],
   "source": [
    "rfc.feature_importances_"
   ]
  },
  {
   "cell_type": "code",
   "execution_count": null,
   "id": "f0bb7238",
   "metadata": {},
   "outputs": [],
   "source": [
    "gbc=GradientBoostingClassifier(max_depth=2,random_state=12)\n",
    "gbc.fit(X_train, y_train)\n",
    "print(gbc.score(X_train, y_train))\n",
    "print(gbc.score(X_test, y_test))"
   ]
  },
  {
   "cell_type": "code",
   "execution_count": null,
   "id": "8be55629",
   "metadata": {},
   "outputs": [],
   "source": [
    "a1=pd.read_csv(r\"/Users/vijay/Downloads/test_new.csv\")\n",
    "a1['Sex'].replace(['male','female'],[1,2], inplace=True)\n",
    "a1['Age'].replace([np.NaN],[30], inplace=True)\n",
    "a1['SibSp'].replace([np.NaN],[0], inplace=True)\n",
    "a1['Parch'].replace([np.NaN],[0], inplace=True)\n",
    "a1['Fare'].replace([np.NaN],[8], inplace=True)\n",
    "a1['Pclass'].replace([np.NaN],[2], inplace=True)\n",
    "a1['Embarked'].replace(['S','C','Q'],[1,2,3], inplace=True)\n",
    "a1['Embarked'].replace([np.NaN],[2], inplace=True)\n",
    "a\n"
   ]
  },
  {
   "cell_type": "code",
   "execution_count": null,
   "id": "28ba16cf",
   "metadata": {},
   "outputs": [],
   "source": [
    "x = a1['Name'].astype('str').str.extractall('(\\d+)').unstack().fillna('').sum(axis=1).astype(int)\n",
    "x"
   ]
  },
  {
   "cell_type": "code",
   "execution_count": null,
   "id": "652550e1",
   "metadata": {},
   "outputs": [],
   "source": [
    "np.array(x)"
   ]
  },
  {
   "cell_type": "code",
   "execution_count": null,
   "id": "f239f9bb",
   "metadata": {},
   "outputs": [],
   "source": [
    "a1_reduced=a1[['Pclass','Sex','Fare','Age']]\n",
    "data=np.array(a1_reduced)\n"
   ]
  },
  {
   "cell_type": "code",
   "execution_count": null,
   "id": "7156bbf0",
   "metadata": {},
   "outputs": [],
   "source": [
    "data_final=np.hstack([data,np.array(x).reshape(-1,1)])\n"
   ]
  },
  {
   "cell_type": "code",
   "execution_count": null,
   "id": "64c3f3e7",
   "metadata": {},
   "outputs": [],
   "source": [
    "data_final_a1=np.hstack([np.array(a1_reduced),np.array(x).reshape(-1,1)])\n",
    "data_final_a1.shape\n"
   ]
  },
  {
   "cell_type": "code",
   "execution_count": null,
   "id": "1e3c20f5",
   "metadata": {},
   "outputs": [],
   "source": [
    "prediction=rfc.predict(data_final_a1)\n",
    "result=np.hstack([PassengerId,prediction.reshape(-1,1)])\n",
    "dict = {'PassengerId': result[:,0], 'Survived': result[:,1]} \n",
    "df = pd.DataFrame(dict,index=None)\n",
    "df.to_csv(r\"/Users/vijay/Desktop/result_prefix.csv\",index=False)\n"
   ]
  },
  {
   "cell_type": "code",
   "execution_count": null,
   "id": "25779e3b",
   "metadata": {},
   "outputs": [],
   "source": [
    "# End project here\n",
    "# Title is more inportant feature than sex\n",
    "# probably because it contains information like age also\n",
    "#  But even with this feature accuracy doesnot increase beyond maximum achieved\n"
   ]
  }
 ],
 "metadata": {
  "kernelspec": {
   "display_name": "Python 3 (ipykernel)",
   "language": "python",
   "name": "python3"
  },
  "language_info": {
   "codemirror_mode": {
    "name": "ipython",
    "version": 3
   },
   "file_extension": ".py",
   "mimetype": "text/x-python",
   "name": "python",
   "nbconvert_exporter": "python",
   "pygments_lexer": "ipython3",
   "version": "3.9.7"
  }
 },
 "nbformat": 4,
 "nbformat_minor": 5
}
